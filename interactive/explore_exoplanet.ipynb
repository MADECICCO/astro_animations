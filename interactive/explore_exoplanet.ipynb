{
 "cells": [
  {
   "cell_type": "code",
   "execution_count": null,
   "metadata": {},
   "outputs": [],
   "source": [
    "import numpy as np\n",
    "import matplotlib.pyplot as plt\n",
    "\n",
    "import anim_solvers.binary_integrator as bi\n",
    "from ipywidgets import interact"
   ]
  },
  {
   "cell_type": "code",
   "execution_count": null,
   "metadata": {},
   "outputs": [],
   "source": [
    "G = bi.G\n",
    "M_sun = bi.M_sun\n",
    "AU = bi.AU\n",
    "year = bi.year"
   ]
  },
  {
   "cell_type": "code",
   "execution_count": null,
   "metadata": {},
   "outputs": [],
   "source": [
    "class exoplanet:\n",
    "    def __init__(self, M_star=M_sun, M_p=0.15*M_sun, a_p=1.0*AU, ecc=0.3):\n",
    "        self.M_star = M_star\n",
    "        self.M_p = M_p\n",
    "        self.a_p = a_p\n",
    "        self.a_star = (M_p/M_star)*a_p\n",
    "        self.ecc = ecc\n",
    "        \n",
    "        # integrate the orbit for 1 period without any phase\n",
    "        b = bi.Binary(self.M_star, self.M_p, self.a_star + self.a_p, ecc, 0.0)\n",
    "        dt = b.P/360.0\n",
    "        tmax = b.P\n",
    "        b.integrate(dt, tmax)\n",
    "        self.b = b\n",
    "        self.s = b.orbit1\n",
    "        self.p = b.orbit2\n",
    "        \n",
    "    def _make_plot(self, n, M):\n",
    "        fig = plt.figure()\n",
    "        ax = fig.add_subplot(111)\n",
    "        ax.plot(self.s.t/self.b.P, -self.s.vy/1.e5, color=\"C1\")\n",
    "        ax.scatter([self.s.t[n]/self.b.P], [-self.s.vy[n]/1.e5], color=\"C1\", s=50)\n",
    "        \n",
    "    def explore(self):\n",
    "        interact(self._make_plot, n=(0, 359, 1), M=(0.1, 1, 0.1))\n",
    "        "
   ]
  },
  {
   "cell_type": "code",
   "execution_count": null,
   "metadata": {},
   "outputs": [],
   "source": [
    "e = exoplanet()"
   ]
  },
  {
   "cell_type": "code",
   "execution_count": null,
   "metadata": {},
   "outputs": [],
   "source": [
    "e.explore()"
   ]
  },
  {
   "cell_type": "code",
   "execution_count": null,
   "metadata": {},
   "outputs": [],
   "source": []
  }
 ],
 "metadata": {
  "kernelspec": {
   "display_name": "Python 3",
   "language": "python",
   "name": "python3"
  },
  "language_info": {
   "codemirror_mode": {
    "name": "ipython",
    "version": 3
   },
   "file_extension": ".py",
   "mimetype": "text/x-python",
   "name": "python",
   "nbconvert_exporter": "python",
   "pygments_lexer": "ipython3",
   "version": "3.8.6"
  }
 },
 "nbformat": 4,
 "nbformat_minor": 4
}
